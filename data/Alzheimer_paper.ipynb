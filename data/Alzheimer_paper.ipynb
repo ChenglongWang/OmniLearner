{
 "cells": [
  {
   "cell_type": "code",
   "execution_count": 163,
   "metadata": {
    "ExecuteTime": {
     "end_time": "2020-09-29T14:26:37.019278Z",
     "start_time": "2020-09-29T14:26:30.560526Z"
    }
   },
   "outputs": [],
   "source": [
    "import pandas as pd\n",
    "ev1_raw_df = pd.read_excel(\"msb199356-sup-0003-datasetev1.xlsx\", skiprows=1)\n",
    "ev2_raw_df = pd.read_excel(\"msb199356-sup-0004-datasetev2.xlsx\")"
   ]
  },
  {
   "cell_type": "code",
   "execution_count": 164,
   "metadata": {
    "ExecuteTime": {
     "end_time": "2020-09-29T14:27:07.041616Z",
     "start_time": "2020-09-29T14:27:06.867587Z"
    },
    "scrolled": true
   },
   "outputs": [],
   "source": [
    "ev1_raw_df.rename(columns = {'Unnamed: 0': 'Genes', 'Unnamed: 1': 'Proteins'}, inplace=True)\n",
    "ev1_raw_df.rename(columns = {k:k.split(\"]\")[1].strip() for k in ev1_raw_df.columns[2:]}, inplace=True)\n",
    "ev1_raw_df.drop(\"Genes\", axis=1, inplace=True)\n",
    "ev1_raw_df.set_index(\"Proteins\", inplace=True)\n",
    "ev1_df = ev1_raw_df.T.reset_index()\n",
    "ev1_df.rename(columns = {'index': 'Samples'}, inplace=True)\n",
    "ev2_raw_df.rename(columns={'sample name': 'Samples'}, inplace=True)\n",
    "ev2_raw_df.rename(columns={k:\"_\" + k for k in ev2_raw_df.columns[1:]}, inplace=True)"
   ]
  },
  {
   "cell_type": "code",
   "execution_count": 166,
   "metadata": {
    "ExecuteTime": {
     "end_time": "2020-09-29T14:27:17.143046Z",
     "start_time": "2020-09-29T14:27:17.068091Z"
    }
   },
   "outputs": [
    {
     "name": "stdout",
     "output_type": "stream",
     "text": [
      "Index(['Samples', 'A0A024QZX5;A0A087X1N8;P35237', 'A0A024R0T9;K7ER74;P02655',\n",
      "       'A0A024R3B9;E9PJL7;E9PNH7;E9PR44;E9PRA8;P02511',\n",
      "       'A0A024R3W6;A0A024R412;O60462;O60462-2;O60462-3;O60462-4;O60462-5;Q7LBX6;X5D2Q8',\n",
      "       'A0A024R644;A0A0A0MRU5;A0A1B0GWI2;O75503', 'A0A075B6H7', 'A0A075B6H9',\n",
      "       'A0A075B6I0', 'A0A075B6I1',\n",
      "       ...\n",
      "       '_age at CSF collection', '_gender', '_t-tau [ng/L]', '_p-tau [ng/L]',\n",
      "       '_Abeta-42 [ng/L]', '_Abeta-40 [ng/L]', '_Abeta-42/Abeta-40 ratio',\n",
      "       '_primary biochemical AD classification', '_clinical AD diagnosis',\n",
      "       '_MMSE score'],\n",
      "      dtype='object', length=1554)\n",
      "(197, 1554)\n"
     ]
    },
    {
     "data": {
      "text/html": [
       "<div>\n",
       "<style scoped>\n",
       "    .dataframe tbody tr th:only-of-type {\n",
       "        vertical-align: middle;\n",
       "    }\n",
       "\n",
       "    .dataframe tbody tr th {\n",
       "        vertical-align: top;\n",
       "    }\n",
       "\n",
       "    .dataframe thead th {\n",
       "        text-align: right;\n",
       "    }\n",
       "</style>\n",
       "<table border=\"1\" class=\"dataframe\">\n",
       "  <thead>\n",
       "    <tr style=\"text-align: right;\">\n",
       "      <th></th>\n",
       "      <th>_age at CSF collection</th>\n",
       "      <th>_t-tau [ng/L]</th>\n",
       "      <th>_p-tau [ng/L]</th>\n",
       "      <th>_Abeta-42 [ng/L]</th>\n",
       "      <th>_Abeta-40 [ng/L]</th>\n",
       "      <th>_Abeta-42/Abeta-40 ratio</th>\n",
       "      <th>_MMSE score</th>\n",
       "    </tr>\n",
       "  </thead>\n",
       "  <tbody>\n",
       "    <tr>\n",
       "      <th>count</th>\n",
       "      <td>197.000000</td>\n",
       "      <td>181.000000</td>\n",
       "      <td>98.000000</td>\n",
       "      <td>181.000000</td>\n",
       "      <td>121.000000</td>\n",
       "      <td>121.000000</td>\n",
       "      <td>83.000000</td>\n",
       "    </tr>\n",
       "    <tr>\n",
       "      <th>mean</th>\n",
       "      <td>67.725888</td>\n",
       "      <td>553.624309</td>\n",
       "      <td>72.448980</td>\n",
       "      <td>687.104972</td>\n",
       "      <td>10505.842975</td>\n",
       "      <td>0.078753</td>\n",
       "      <td>25.722892</td>\n",
       "    </tr>\n",
       "    <tr>\n",
       "      <th>std</th>\n",
       "      <td>12.122924</td>\n",
       "      <td>372.272096</td>\n",
       "      <td>40.868692</td>\n",
       "      <td>381.119236</td>\n",
       "      <td>5192.846673</td>\n",
       "      <td>0.046603</td>\n",
       "      <td>4.028294</td>\n",
       "    </tr>\n",
       "    <tr>\n",
       "      <th>min</th>\n",
       "      <td>20.000000</td>\n",
       "      <td>78.000000</td>\n",
       "      <td>16.000000</td>\n",
       "      <td>154.000000</td>\n",
       "      <td>2450.000000</td>\n",
       "      <td>0.015910</td>\n",
       "      <td>12.000000</td>\n",
       "    </tr>\n",
       "    <tr>\n",
       "      <th>25%</th>\n",
       "      <td>63.000000</td>\n",
       "      <td>275.000000</td>\n",
       "      <td>36.750000</td>\n",
       "      <td>417.000000</td>\n",
       "      <td>6608.000000</td>\n",
       "      <td>0.044879</td>\n",
       "      <td>23.500000</td>\n",
       "    </tr>\n",
       "    <tr>\n",
       "      <th>50%</th>\n",
       "      <td>70.000000</td>\n",
       "      <td>441.000000</td>\n",
       "      <td>73.500000</td>\n",
       "      <td>593.000000</td>\n",
       "      <td>9515.000000</td>\n",
       "      <td>0.066624</td>\n",
       "      <td>27.000000</td>\n",
       "    </tr>\n",
       "    <tr>\n",
       "      <th>75%</th>\n",
       "      <td>74.000000</td>\n",
       "      <td>802.000000</td>\n",
       "      <td>93.750000</td>\n",
       "      <td>892.000000</td>\n",
       "      <td>12967.000000</td>\n",
       "      <td>0.104904</td>\n",
       "      <td>29.000000</td>\n",
       "    </tr>\n",
       "    <tr>\n",
       "      <th>max</th>\n",
       "      <td>88.000000</td>\n",
       "      <td>2390.000000</td>\n",
       "      <td>233.000000</td>\n",
       "      <td>2206.000000</td>\n",
       "      <td>26080.000000</td>\n",
       "      <td>0.369508</td>\n",
       "      <td>30.000000</td>\n",
       "    </tr>\n",
       "  </tbody>\n",
       "</table>\n",
       "</div>"
      ],
      "text/plain": [
       "       _age at CSF collection  _t-tau [ng/L]  _p-tau [ng/L]  _Abeta-42 [ng/L]  \\\n",
       "count              197.000000     181.000000      98.000000        181.000000   \n",
       "mean                67.725888     553.624309      72.448980        687.104972   \n",
       "std                 12.122924     372.272096      40.868692        381.119236   \n",
       "min                 20.000000      78.000000      16.000000        154.000000   \n",
       "25%                 63.000000     275.000000      36.750000        417.000000   \n",
       "50%                 70.000000     441.000000      73.500000        593.000000   \n",
       "75%                 74.000000     802.000000      93.750000        892.000000   \n",
       "max                 88.000000    2390.000000     233.000000       2206.000000   \n",
       "\n",
       "       _Abeta-40 [ng/L]  _Abeta-42/Abeta-40 ratio  _MMSE score  \n",
       "count        121.000000                121.000000    83.000000  \n",
       "mean       10505.842975                  0.078753    25.722892  \n",
       "std         5192.846673                  0.046603     4.028294  \n",
       "min         2450.000000                  0.015910    12.000000  \n",
       "25%         6608.000000                  0.044879    23.500000  \n",
       "50%         9515.000000                  0.066624    27.000000  \n",
       "75%        12967.000000                  0.104904    29.000000  \n",
       "max        26080.000000                  0.369508    30.000000  "
      ]
     },
     "execution_count": 166,
     "metadata": {},
     "output_type": "execute_result"
    }
   ],
   "source": [
    "df = pd.merge(ev1_df, ev2_raw_df, on=\"Samples\", how='inner') # left: 210,1554 | inner: 197, 1554\n",
    "print(df.columns)\n",
    "print(df.shape)\n",
    "df.describe()"
   ]
  },
  {
   "cell_type": "code",
   "execution_count": 167,
   "metadata": {
    "ExecuteTime": {
     "end_time": "2020-09-29T14:27:39.001350Z",
     "start_time": "2020-09-29T14:27:38.990359Z"
    },
    "scrolled": true
   },
   "outputs": [
    {
     "data": {
      "text/plain": [
       "Samples                                   20180618_QX0_JaBa_SA_LC12_5_CSF1_1_8-1xD1xS1fM...\n",
       "_collection site                                                                     Sweden\n",
       "_age at CSF collection                                                                   71\n",
       "_gender                                                                                   f\n",
       "_t-tau [ng/L]                                                                           703\n",
       "_p-tau [ng/L]                                                                            85\n",
       "_Abeta-42 [ng/L]                                                                        562\n",
       "_Abeta-40 [ng/L]                                                                        NaN\n",
       "_Abeta-42/Abeta-40 ratio                                                                NaN\n",
       "_primary biochemical AD classification                                  biochemical control\n",
       "_clinical AD diagnosis                                                                  NaN\n",
       "_MMSE score                                                                             NaN\n",
       "Name: 0, dtype: object"
      ]
     },
     "execution_count": 167,
     "metadata": {},
     "output_type": "execute_result"
    }
   ],
   "source": [
    "df.iloc[0,:][ev2_raw_df.columns]"
   ]
  }
 ],
 "metadata": {
  "kernelspec": {
   "display_name": "Python 3",
   "language": "python",
   "name": "python3"
  },
  "language_info": {
   "codemirror_mode": {
    "name": "ipython",
    "version": 3
   },
   "file_extension": ".py",
   "mimetype": "text/x-python",
   "name": "python",
   "nbconvert_exporter": "python",
   "pygments_lexer": "ipython3",
   "version": "3.7.4"
  }
 },
 "nbformat": 4,
 "nbformat_minor": 2
}