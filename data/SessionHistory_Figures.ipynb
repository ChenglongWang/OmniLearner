{
 "cells": [
  {
   "cell_type": "markdown",
   "metadata": {},
   "source": [
    "# OMIC LEARN\n",
    "## https://github.com/OmicEra/OmicLearn\n",
    "\n",
    "## Session History Data Vis."
   ]
  },
  {
   "cell_type": "code",
   "execution_count": null,
   "metadata": {
    "ExecuteTime": {
     "end_time": "2020-10-28T09:19:46.198169Z",
     "start_time": "2020-10-28T09:19:43.726191Z"
    }
   },
   "outputs": [],
   "source": [
    "import pandas as pd\n",
    "import matplotlib.pyplot as plt\n",
    "import plotly.graph_objs as go\n",
    "\n",
    "# Prepare df\n",
    "use_cols = ['Specify the classifier', 'Number of estimators', 'Function for measure the quality', 'Number of max. features', \n",
    "            'ROC AUC Mean', 'ROC AUC Std', 'PR AUC Mean', 'PR AUC Std', 'Precision Mean', 'Precision Std', 'Recall Mean', \n",
    "            'Recall Std', 'F1 Score Mean', 'F1 Score Std', 'Accuracy Mean', 'Accuracy Std', \n",
    "            'Balanced Accuracy Mean', 'Balanced Accuracy Std']\n",
    "df = pd.read_csv(\"C://Users//furka//Desktop/RandomForest_session_history.csv\", usecols=use_cols)\n",
    "\n",
    "df[\"Model\"] = df[\"Specify the classifier\"] + \"_\" + df[\"Function for measure the quality\"] + \"_\" + \\\n",
    "                df[\"Number of estimators\"].astype(str) + \"_\" + df[\"Number of max. features\"].astype(str)\n",
    "df = df.drop(['Specify the classifier', 'Number of estimators', 'Function for measure the quality', 'Number of max. features'], axis=1)\n",
    "df = df.set_index(\"Model\")\n",
    "\n",
    "# Basic Graph\n",
    "df.plot(kind=\"bar\", figsize=(12,5))\n",
    "\n",
    "# Show df\n",
    "df"
   ]
  },
  {
   "cell_type": "markdown",
   "metadata": {
    "heading_collapsed": true
   },
   "source": [
    "# Plotly Graphs"
   ]
  },
  {
   "cell_type": "code",
   "execution_count": null,
   "metadata": {
    "ExecuteTime": {
     "end_time": "2020-10-28T09:19:48.182804Z",
     "start_time": "2020-10-28T09:19:46.198169Z"
    },
    "hidden": true
   },
   "outputs": [],
   "source": [
    "res = []\n",
    "for col in df.columns:\n",
    "    res.append(\n",
    "        go.Bar(\n",
    "            x=df.index.values.tolist(),\n",
    "            y=df[col].values.tolist(),\n",
    "            name=col,\n",
    "            hoverinfo='name+y'\n",
    "        )\n",
    "    )\n",
    "\n",
    "layout = go.Layout(barmode='group', title=\"Comparison of hyperparameters for RandomForest\")\n",
    "fig = go.Figure(data=res, layout=layout)\n",
    "fig.show()"
   ]
  },
  {
   "cell_type": "code",
   "execution_count": null,
   "metadata": {
    "ExecuteTime": {
     "end_time": "2020-10-28T09:19:48.515591Z",
     "start_time": "2020-10-28T09:19:48.185796Z"
    },
    "hidden": true
   },
   "outputs": [],
   "source": [
    "df_t = df.T\n",
    "res = []\n",
    "for col in df_t.columns:\n",
    "    res.append(\n",
    "        go.Bar(\n",
    "            x=df_t.index.values.tolist(),\n",
    "            y=df_t[col].values.tolist(),\n",
    "            name=col,\n",
    "            hoverinfo='name+y'\n",
    "        )\n",
    "    )\n",
    "\n",
    "layout = go.Layout(barmode='group', title=\"Comparison of hyperparameters for RandomForest\")\n",
    "fig = go.Figure(data=res, layout=layout)\n",
    "fig.show()"
   ]
  },
  {
   "cell_type": "markdown",
   "metadata": {},
   "source": [
    "# Plotly Graphs with Error Bar for `std`"
   ]
  },
  {
   "cell_type": "code",
   "execution_count": null,
   "metadata": {
    "ExecuteTime": {
     "end_time": "2020-10-28T09:19:48.815404Z",
     "start_time": "2020-10-28T09:19:48.517590Z"
    },
    "scrolled": false
   },
   "outputs": [],
   "source": [
    "mean_columns = [_ for _ in df.columns if \"Mean\" in _]\n",
    "mean_values = df[mean_columns]\n",
    "std_columns = [_ for _ in df.columns if \"Std\" in _]\n",
    "std_values = df[std_columns]\n",
    "\n",
    "res = []\n",
    "for col, col2 in zip(mean_columns, std_columns):\n",
    "    res.append(\n",
    "        go.Bar(\n",
    "            x=df.index.values.tolist(),\n",
    "            y=mean_values[col].values.tolist(),\n",
    "            name=col,\n",
    "            hoverinfo='name+y',\n",
    "            error_y=dict(type='data', array=std_values[col2].values.tolist()),\n",
    "        )\n",
    "    )\n",
    "\n",
    "layout = go.Layout(barmode='group', title=\"Comparison of hyperparameters for RandomForest\")\n",
    "fig = go.Figure(data=res, layout=layout)\n",
    "fig.show()"
   ]
  },
  {
   "cell_type": "code",
   "execution_count": null,
   "metadata": {
    "ExecuteTime": {
     "end_time": "2020-10-28T09:19:49.084238Z",
     "start_time": "2020-10-28T09:19:48.817403Z"
    }
   },
   "outputs": [],
   "source": [
    "df_t = df.T\n",
    "mean_columns = [_ for _ in df_t.index if \"Mean\" in _]\n",
    "mean_values = df_t[df_t.index.isin(mean_columns)]\n",
    "std_columns = [_ for _ in df_t.index if \"Std\" in _]\n",
    "std_values = df_t[df_t.index.isin(std_columns)]\n",
    "\n",
    "res = []\n",
    "for col in df_t.columns:\n",
    "    res.append(\n",
    "        go.Bar(\n",
    "            x=mean_columns,\n",
    "            y=mean_values[col].values.tolist(),\n",
    "            name=col,\n",
    "            hoverinfo='name+y',\n",
    "            error_y=dict(type='data', array=std_values[col].values.tolist()),\n",
    "        )\n",
    "    )\n",
    "\n",
    "layout = go.Layout(barmode='group', title=\"Comparison of hyperparameters for RandomForest\")\n",
    "fig = go.Figure(data=res, layout=layout)\n",
    "fig.show()"
   ]
  }
 ],
 "metadata": {
  "kernelspec": {
   "display_name": "Python 3",
   "language": "python",
   "name": "python3"
  },
  "language_info": {
   "codemirror_mode": {
    "name": "ipython",
    "version": 3
   },
   "file_extension": ".py",
   "mimetype": "text/x-python",
   "name": "python",
   "nbconvert_exporter": "python",
   "pygments_lexer": "ipython3",
   "version": "3.7.4"
  }
 },
 "nbformat": 4,
 "nbformat_minor": 2
}